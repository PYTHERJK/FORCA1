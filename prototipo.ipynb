{
  "nbformat": 4,
  "nbformat_minor": 0,
  "metadata": {
    "colab": {
      "name": "Untitled34.ipynb",
      "provenance": [],
      "authorship_tag": "ABX9TyNDJ4Na9tMMKWcqsl5d3ax1",
      "include_colab_link": true
    },
    "kernelspec": {
      "name": "python3",
      "display_name": "Python 3"
    }
  },
  "cells": [
    {
      "cell_type": "markdown",
      "metadata": {
        "id": "view-in-github",
        "colab_type": "text"
      },
      "source": [
        "<a href=\"https://colab.research.google.com/github/PYTHERJK/FORCA1/blob/master/prototipo.ipynb\" target=\"_parent\"><img src=\"https://colab.research.google.com/assets/colab-badge.svg\" alt=\"Open In Colab\"/></a>"
      ]
    },
    {
      "cell_type": "code",
      "metadata": {
        "id": "fV_ZJtG1_vfT",
        "colab_type": "code",
        "colab": {}
      },
      "source": [
        "#CODIGO MERAMENTE ILUSTRATIVO NÃO COMPILADO"
      ],
      "execution_count": 0,
      "outputs": []
    },
    {
      "cell_type": "code",
      "metadata": {
        "id": "7yD6YDs29Kvo",
        "colab_type": "code",
        "colab": {}
      },
      "source": [
        "#comando de limpar tela #\n",
        "print('CADASTRO DO FREE LANCER')\n",
        "import os\n",
        "os.system('cls') or None"
      ],
      "execution_count": 0,
      "outputs": []
    },
    {
      "cell_type": "code",
      "metadata": {
        "id": "i1Aa7j2q_fci",
        "colab_type": "code",
        "colab": {}
      },
      "source": [
        "#------------  PRIMEIRA TELA ------------#\n",
        "resp = input('Já tem cadastro conosco? ')\n",
        "if resp = 'sim'\n",
        "    #manda para a tela de login#\n",
        "    print('resp sim')\n",
        "    mat = input('Digite sua matricula:  \\n').upper() \n",
        "    senha = input('Crie uma senha:  \\n').upper()\n",
        "elif \n",
        "    #manda para a tela de cadastro#\n",
        "    uso = input('Digite seu nome: \\n').upper()\n",
        "    cpf = input('Digite seu CPF: \\n').upper()\n",
        "    email = input('Digite seu Email: \\n').upper()\n",
        "    senha = input('Crie uma senha: \\n').upper()\n",
        "    repita_senha = input('Digite novamente: \\n').upper()\n",
        "    for \n",
        "    if senha = repita_senha\n",
        "\n",
        "        #gera matricula e faz login# \n",
        "    elif \n",
        "    print('Senhas não correspondem.')\n",
        "    #digite senha novamente#\n",
        "\n",
        "#--------------SEGUNDA TELA ----------------#\n",
        "print('------------------ESCOLHA O TEMA DA PESQUISA----------------------')\n",
        "print('Mobiledade dos Deficientes')     print('2')\n",
        "print('3')                 print('4')\n",
        "if tema = Mobilidade dos Deficientes \n"
      ],
      "execution_count": 0,
      "outputs": []
    }
  ]
}